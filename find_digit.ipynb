{
 "cells": [
  {
   "cell_type": "code",
   "execution_count": 1,
   "metadata": {},
   "outputs": [],
   "source": [
    "# Implement a function to compute the number of occurrences of a digit k in all\n",
    "# numbers between a and b where a >=0 and b >= a.\n",
    "# Estimate the runtime of your function"
   ]
  },
  {
   "cell_type": "code",
   "execution_count": 2,
   "metadata": {},
   "outputs": [],
   "source": [
    "import time # use this function to estimate the runtime"
   ]
  },
  {
   "cell_type": "code",
   "execution_count": 3,
   "metadata": {},
   "outputs": [],
   "source": [
    "begin = time.time() # start time of the script"
   ]
  },
  {
   "cell_type": "code",
   "execution_count": 4,
   "metadata": {},
   "outputs": [],
   "source": [
    "def prepare(start,stop):\n",
    "    \n",
    "    \" * Takes the first and last number from user's input\"\n",
    "    \" * Generates a dictionary with the number as key and its splitted numbers\"\n",
    "    \" * Returns a list with multiple dictionaries with this format: {num: 10, splitted: [1,0]}\"\n",
    "    \n",
    "    numbers_between = list(range(start, stop + 1)) # generate a list with all the numbers getting the 'first' number and 'last' number\n",
    "    numbers_prepared = []\n",
    "    for number in numbers_between:\n",
    "        number = str(number)\n",
    "        # creates dictionary with the number and its splitted numbers in a list\n",
    "        numbers_prepared.append({'number': int(number), 'splitted': [int(char) for char in number]})\n",
    "    \n",
    "    return numbers_prepared"
   ]
  },
  {
   "cell_type": "code",
   "execution_count": 5,
   "metadata": {},
   "outputs": [],
   "source": [
    "def findnumbers(numbers_prepared, find):\n",
    "\n",
    "    \" * takes the generated list of the previous function and the number to find\"\n",
    "    \n",
    "    found_numbers = list() # this is my final desired list\n",
    "\n",
    "    for number_prepared in numbers_prepared: # Iterate into the recived list\n",
    "        \n",
    "        number   = number_prepared['number'] # takes the first key of the dictionary (number)\n",
    "        splitted = number_prepared['splitted'] # takes the second key of the dictionary (splitted)\n",
    "        \n",
    "        if len(str(find)) == 1: # case 1 - number to find: 1 digit\n",
    "        \n",
    "            for digit in splitted:\n",
    "                if digit == find:\n",
    "                    # print(f'number: {number}, {digit} is equal to {find}, saved') \n",
    "                    found_numbers.append(number)\n",
    "                    \n",
    "        else:                   # case 2 - number to find: 2 or more digits\n",
    "            \n",
    "            if number == find:\n",
    "                # print(f'number: {number} is equal to {find}, saved') \n",
    "                found_numbers.append(number)\n",
    "                    \n",
    "    return list(set(found_numbers)) # use a set to delete the duplications"
   ]
  },
  {
   "cell_type": "code",
   "execution_count": 6,
   "metadata": {},
   "outputs": [],
   "source": [
    "a = 1  # a >= 0 \n",
    "b = 31 # b >= a\n",
    "k = 1  # digit k"
   ]
  },
  {
   "cell_type": "code",
   "execution_count": 7,
   "metadata": {},
   "outputs": [
    {
     "name": "stdout",
     "output_type": "stream",
     "text": [
      "[1, 10, 11, 12, 13, 14, 15, 16, 17, 18, 19, 21, 31]\n"
     ]
    }
   ],
   "source": [
    "print(findnumbers(prepare(a,b),k))"
   ]
  },
  {
   "cell_type": "code",
   "execution_count": 8,
   "metadata": {},
   "outputs": [
    {
     "name": "stdout",
     "output_type": "stream",
     "text": [
      "Total runtime of the program is 0.09473562240600586\n"
     ]
    }
   ],
   "source": [
    "end = time.time() # end time of the script\n",
    "print(f'Total runtime of the program is {end - begin}')"
   ]
  },
  {
   "cell_type": "code",
   "execution_count": null,
   "metadata": {},
   "outputs": [],
   "source": []
  }
 ],
 "metadata": {
  "kernelspec": {
   "display_name": "Python 3",
   "language": "python",
   "name": "python3"
  },
  "language_info": {
   "codemirror_mode": {
    "name": "ipython",
    "version": 3
   },
   "file_extension": ".py",
   "mimetype": "text/x-python",
   "name": "python",
   "nbconvert_exporter": "python",
   "pygments_lexer": "ipython3",
   "version": "3.8.3"
  }
 },
 "nbformat": 4,
 "nbformat_minor": 4
}
